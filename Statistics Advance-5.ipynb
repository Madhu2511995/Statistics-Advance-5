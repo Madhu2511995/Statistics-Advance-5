{
 "cells": [
  {
   "cell_type": "markdown",
   "id": "867f6fec-e36b-496c-89eb-b8ccf8d46df3",
   "metadata": {},
   "source": [
    "#### Q1. Calculate the 95% confidence interval for a sample of data with a mean of 50 and a standard deviation of 5 using Python. Interpret the results.\n",
    "\n",
    "#### Q2. Conduct a chi-square goodness of fit test to determine if the distribution of colors of M&Ms in a bag matches the expected distribution of 20% blue, 20% orange, 20% green, 10% yellow, 10% red, and 20% brown. Use Python to perform the test with a significance level of 0.05.\n",
    "\n",
    "#### Q3. Use Python to calculate the chi-square statistic and p-value for a contingency table with the following data:\n",
    "                        Group A     Group B\n",
    "   \n",
    "             Outcome 1       20          15\n",
    "             Outcome 2       10          25\n",
    "             Outcome 3       15          20\n",
    "##### Interpret the results of the test.\n",
    "\n",
    "\n",
    "#### Q4. A study of the prevalence of smoking in a population of 500 individuals found that 60 individuals smoked. Use Python to calculate the 95% confidence interval for the true proportion of individuals in the population who smoke.\n",
    "\n",
    "#### Q5. Calculate the 90% confidence interval for a sample of data with a mean of 75 and a standard deviation of 12 using Python. Interpret the results.\n",
    "\n",
    "#### Q6. Use Python to plot the chi-square distribution with 10 degrees of freedom. Label the axes and shade the area corresponding to a chi-square statistic of 15.\n",
    "\n",
    "#### Q7. A random sample of 1000 people was asked if they preferred Coke or Pepsi. Of the sample, 520 preferred Coke. Calculate a 99% confidence interval for the true proportion of people in the population who prefer Coke.\n",
    "\n",
    "#### Q8. A researcher hypothesizes that a coin is biased towards tails. They flip the coin 100 times and observe 45 tails. Conduct a chi-square goodness of fit test to determine if the observed frequencies match the expected frequencies of a fair coin. Use a significance level of 0.05.\n",
    "\n",
    "#### Q9. A study was conducted to determine if there is an association between smoking status (smoker or non-smoker) and lung cancer diagnosis (yes or no). The results are shown in the contingency table below.Conduct a chi-square test for independence to determine if there is a significant association between smoking status and lung cancer diagnosis.\n",
    "\n",
    "           Lung Cancer: Yes   Lung Cancer: No\n",
    "\n",
    "          Smoker         60                140\n",
    "         Non-smoker      30                170\n",
    "#### Use a significance level of 0.05.\n",
    "\n",
    "#### Q10. A study was conducted to determine if the proportion of people who prefer milk chocolate, dark chocolate, or white chocolate is different in the U.S. versus the U.K. A random sample of 500 people from the U.S. and a random sample of 500 people from the U.K. were surveyed. The results are shown in the contingency table below. Conduct a chi-square test for independence to determine if there is a significant association between chocolate preference and country of origin.\n",
    "           \n",
    "                        Milk Chocolate   Dark Chocolate   White Chocolate\n",
    "\n",
    "          U.S. (n=500)         200           150                150\n",
    "          U.K. (n=500)         225           175                100\n",
    "          \n",
    "#### Use a significance level of 0.01.\n",
    "\n",
    "#### Q11. A random sample of 30 people was selected from a population with an unknown mean and standard deviation. The sample mean was found to be 72 and the sample standard deviation was found to be 10.Conduct a hypothesis test to determine if the population mean is significantly different from 70. Use a significance level of 0.05.\n"
   ]
  },
  {
   "cell_type": "markdown",
   "id": "08c0f25a-20e8-42a4-a9e3-2d01644ed3ce",
   "metadata": {},
   "source": [
    "## Answers"
   ]
  },
  {
   "cell_type": "markdown",
   "id": "ee0982ab-2a23-4f5c-9401-4a88e45e1697",
   "metadata": {},
   "source": [
    "### Q1. Calculate the 95% confidence interval for a sample of data with a mean of 50 and a standard deviation of 5 using Python. Interpret the results."
   ]
  },
  {
   "cell_type": "code",
   "execution_count": 11,
   "id": "296e342d-6dd0-49c7-b759-1932c4973999",
   "metadata": {},
   "outputs": [
    {
     "name": "stdout",
     "output_type": "stream",
     "text": [
      "95% Confidence Interval: 48.44891633250154 51.55108366749846\n"
     ]
    }
   ],
   "source": [
    "import scipy.stats as st\n",
    "# Sample data information\n",
    "sample_mean = 50\n",
    "sample_std_dev = 5\n",
    "# Let consider that\n",
    "sample_size= 30 \n",
    "signifance_value=0.05\n",
    "# Calculate the standard error\n",
    "standard_error = sample_std_dev / (sample_size ** 0.5)\n",
    "critical_value=st.t.ppf(q=1-signifance_value,df=sample_size-1)\n",
    "upper_bound=sample_mean+(critical_value*standard_error)\n",
    "lower_bound=sample_mean-(critical_value*standard_error)\n",
    "\n",
    "print(\"95% Confidence Interval:\",lower_bound,upper_bound)\n"
   ]
  },
  {
   "cell_type": "markdown",
   "id": "74aeae67-571c-4351-8b78-672c828517fd",
   "metadata": {},
   "source": [
    "### Q2. Conduct a chi-square goodness of fit test to determine if the distribution of colors of M&Ms in a bag matches the expected distribution of 20% blue, 20% orange, 20% green, 10% yellow, 10% red, and 20% brown. Use Python to perform the test with a significance level of 0.05."
   ]
  },
  {
   "cell_type": "markdown",
   "id": "89109e87-6993-4a90-8cf0-3169e5f545d3",
   "metadata": {},
   "source": [
    "#### H0: for this test is that the observed distribution of colors matches the expected distribution.\n",
    "\n",
    "#### Ha: is that the observed distribution differs significantly from the expected distribution."
   ]
  },
  {
   "cell_type": "code",
   "execution_count": 40,
   "id": "13119c95-5271-400d-b992-455419f9b2b6",
   "metadata": {},
   "outputs": [
    {
     "name": "stdout",
     "output_type": "stream",
     "text": [
      "Chi-square test statistic: 24.28571428571428\n",
      "P-value: 0.00019131243127424983\n",
      "The distribution of colors of M&Ms does not match the expected distribution.\n"
     ]
    }
   ],
   "source": [
    "import numpy as np\n",
    "import scipy.stats as st\n",
    "\n",
    "# Let consider that Observed frequencies of colors in the M&Ms bag\n",
    "observed_freq = np.array([50, 30, 20, 10, 10, 20])  \n",
    "\n",
    "# Expected frequencies based on the expected distribution\n",
    "expected_freq = np.array([0.2, 0.2, 0.2, 0.1, 0.1, 0.2]) * np.sum(observed_freq)\n",
    "\n",
    "# Perform the chi-square goodness-of-fit test\n",
    "chi2_stat, p_value = st.chisquare(observed_freq, f_exp=expected_freq)\n",
    "\n",
    "print(\"Chi-square test statistic:\", chi2_stat)\n",
    "print(\"P-value:\", p_value)\n",
    "\n",
    "# Compare p-value with significance level (e.g., 0.05)\n",
    "if p_value < 0.05:\n",
    "    print(\"The distribution of colors of M&Ms does not match the expected distribution.\")\n",
    "else:\n",
    "    print(\"The distribution of colors of M&Ms matches the expected distribution.\")\n"
   ]
  },
  {
   "cell_type": "markdown",
   "id": "c7ae89f9-b094-4cff-80f1-1d2f1d39de97",
   "metadata": {},
   "source": [
    "### Q3. Use Python to calculate the chi-square statistic and p-value for a contingency table with the following data:\n",
    "                    Group A     Group B\n",
    "\n",
    "         Outcome 1       20          15\n",
    "         Outcome 2       10          25\n",
    "         Outcome 3       15          20\n",
    "### Interpret the results of the test."
   ]
  },
  {
   "cell_type": "code",
   "execution_count": 5,
   "id": "8237bad5-cadd-48d2-a811-12c8fac6c890",
   "metadata": {},
   "outputs": [
    {
     "name": "stdout",
     "output_type": "stream",
     "text": [
      "Chi-square test statistic: 5.833333333333334\n",
      "P-value: 0.05411376622282158\n",
      "Degrees of freedom: 2\n",
      "Expected frequencies table:\n",
      " [[15. 20.]\n",
      " [15. 20.]\n",
      " [15. 20.]]\n"
     ]
    }
   ],
   "source": [
    "import numpy as np\n",
    "import scipy.stats as st\n",
    "\n",
    "# Create the contingency table\n",
    "contingency_table = np.array([[20, 15],\n",
    "                              [10, 25],\n",
    "                              [15, 20]])\n",
    "\n",
    "# Perform the chi-square test\n",
    "chi2_stat, p_value, dof, expected = st.chi2_contingency(contingency_table)\n",
    "\n",
    "print(\"Chi-square test statistic:\", chi2_stat)\n",
    "print(\"P-value:\", p_value)\n",
    "print(\"Degrees of freedom:\", dof)\n",
    "print(\"Expected frequencies table:\\n\", expected)\n"
   ]
  },
  {
   "cell_type": "markdown",
   "id": "02b77b44-9a25-43c2-a9ee-1054a3f351e8",
   "metadata": {},
   "source": [
    "### Q4. A study of the prevalence of smoking in a population of 500 individuals found that 60 individuals smoked. Use Python to calculate the 95% confidence interval for the true proportion of individuals in the population who smoke."
   ]
  },
  {
   "cell_type": "code",
   "execution_count": 12,
   "id": "3a67127f-11ff-4c17-9aac-d2fb33c874e3",
   "metadata": {},
   "outputs": [
    {
     "name": "stdout",
     "output_type": "stream",
     "text": [
      "95% Confidence Interval: (0.09151638887130707, 0.1484836111286929)\n"
     ]
    }
   ],
   "source": [
    "import scipy.stats as st\n",
    "\n",
    "# Sample size\n",
    "n = 500\n",
    "\n",
    "# Number of individuals who smoke in the sample\n",
    "smokers = 60\n",
    "\n",
    "# Calculate the sample proportion\n",
    "sample_proportion = smokers / n\n",
    "\n",
    "# Calculate the critical value for a 95% confidence level\n",
    "confidence_level = 0.95\n",
    "z_critical = st.norm.ppf(1 - (1 - confidence_level) / 2)\n",
    "\n",
    "# or we can use this z_critical = st.norm.ppf(q=1-signifince_value)\n",
    "\n",
    "# Calculate the standard error\n",
    "standard_error = (sample_proportion * (1 - sample_proportion) / n) ** 0.5\n",
    "\n",
    "# Calculate the confidence interval\n",
    "lower_bound = sample_proportion - z_critical * standard_error\n",
    "upper_bound = sample_proportion + z_critical * standard_error\n",
    "\n",
    "print(\"95% Confidence Interval: ({}, {})\".format(lower_bound, upper_bound))\n"
   ]
  },
  {
   "cell_type": "markdown",
   "id": "e8987475-fb9a-43bd-956a-476962bd520c",
   "metadata": {},
   "source": [
    "### Q5. Calculate the 90% confidence interval for a sample of data with a mean of 75 and a standard deviation of 12 using Python. Interpret the results.\n"
   ]
  },
  {
   "cell_type": "code",
   "execution_count": 16,
   "id": "2385b9e2-af3f-44a8-bf2f-0eb9124b8ab0",
   "metadata": {},
   "outputs": [
    {
     "name": "stdout",
     "output_type": "stream",
     "text": [
      "90% Confidence Interval: (71.27739919800369, 78.72260080199631)\n"
     ]
    }
   ],
   "source": [
    "import scipy.stats as st\n",
    "\n",
    "# Sample data information\n",
    "sample_mean = 75\n",
    "sample_std_dev = 12\n",
    "# Let consider that Sample size is 30\n",
    "sample_size = 30  \n",
    "# Calculate the standard error\n",
    "standard_error = sample_std_dev / (sample_size ** 0.5)\n",
    "\n",
    "# Calculate the confidence interval\n",
    "confidence_interval = st.t.interval(0.90, sample_size - 1, loc=sample_mean, scale=standard_error)\n",
    "\n",
    "print(\"90% Confidence Interval:\", confidence_interval)\n"
   ]
  },
  {
   "cell_type": "markdown",
   "id": "6ac12e39-7b14-403e-a609-28be6a1260bf",
   "metadata": {},
   "source": [
    "### Q6. Use Python to plot the chi-square distribution with 10 degrees of freedom. Label the axes and shade the area corresponding to a chi-square statistic of 15.\n"
   ]
  },
  {
   "cell_type": "code",
   "execution_count": 19,
   "id": "0196ebf8-6317-4ac5-b404-b701f6fd051d",
   "metadata": {},
   "outputs": [
    {
     "data": {
      "image/png": "[encoded data removed]",
      "text/plain": [
       "<Figure size 640x480 with 1 Axes>"
      ]
     },
     "metadata": {},
     "output_type": "display_data"
    }
   ],
   "source": [
    "import numpy as np\n",
    "import scipy.stats as st\n",
    "import matplotlib.pyplot as plt\n",
    "\n",
    "# Define the degrees of freedom for the chi-square distribution\n",
    "df = 10\n",
    "\n",
    "# Generate the x values (chi-square statistic values) for the plot\n",
    "x = np.linspace(0, 30, 100)\n",
    "\n",
    "# Calculate the chi-square distribution values for the given degrees of freedom\n",
    "chi2_dist = st.chi2.pdf(x, df)\n",
    "\n",
    "# Plot the chi-square distribution\n",
    "plt.plot(x, chi2_dist, label=f\"Chi-square distribution (df={df})\")\n",
    "\n",
    "# Shade the area corresponding to a chi-square statistic of 15\n",
    "shade_x = np.linspace(15, 30, 10)\n",
    "shade_y = st.chi2.pdf(shade_x, df)\n",
    "plt.fill_between(shade_x, shade_y, color='lightblue', alpha=0.7, label=\"Area for chi-square stat of 15\")\n",
    "\n",
    "# Label the axes and add a legend\n",
    "plt.xlabel(\"Chi-square Statistic\")\n",
    "plt.ylabel(\"Probability Density Function\")\n",
    "plt.legend()\n",
    "\n",
    "# Show the plot\n",
    "plt.grid()\n",
    "plt.show()\n"
   ]
  },
  {
   "cell_type": "markdown",
   "id": "94664697-a6fd-4596-9887-f927f4747051",
   "metadata": {},
   "source": [
    "### Q7. A random sample of 1000 people was asked if they preferred Coke or Pepsi. Of the sample, 520 preferred Coke. Calculate a 99% confidence interval for the true proportion of people in the population who prefer Coke."
   ]
  },
  {
   "cell_type": "code",
   "execution_count": 23,
   "id": "5fb61210-a7a9-4014-94ff-c0fddf8495e2",
   "metadata": {},
   "outputs": [
    {
     "name": "stdout",
     "output_type": "stream",
     "text": [
      "95% Confidence Interval: (0.4793051576779699, 0.5606948423220302)\n"
     ]
    }
   ],
   "source": [
    "import scipy.stats as st\n",
    "\n",
    "# Sample size\n",
    "n = 1000\n",
    "\n",
    "# Number of individuals who drink cock in the sample\n",
    "Coke = 520\n",
    "\n",
    "# Calculate the sample proportion\n",
    "sample_proportion = Coke/ n\n",
    "\n",
    "# Calculate the critical value for a 95% confidence level\n",
    "confidence_level = 0.99\n",
    "z_critical = st.norm.ppf(1 - (1 - confidence_level) / 2)\n",
    "\n",
    "# or we can use this z_critical = st.norm.ppf(q=1-signifince_value)\n",
    "\n",
    "# Calculate the standard error\n",
    "standard_error = (sample_proportion * (1 - sample_proportion) / n) ** 0.5\n",
    "\n",
    "# Calculate the confidence interval\n",
    "lower_bound = sample_proportion - z_critical * standard_error\n",
    "upper_bound = sample_proportion + z_critical * standard_error\n",
    "\n",
    "print(\"95% Confidence Interval: ({}, {})\".format(lower_bound, upper_bound))\n"
   ]
  },
  {
   "cell_type": "markdown",
   "id": "a0d8aa05-2f7b-41a7-b8a6-d9c86c7e64e3",
   "metadata": {},
   "source": [
    "### Q8. A researcher hypothesizes that a coin is biased towards tails. They flip the coin 100 times and observe 45 tails. Conduct a chi-square goodness of fit test to determine if the observed frequencies match the expected frequencies of a fair coin. Use a significance level of 0.05."
   ]
  },
  {
   "cell_type": "markdown",
   "id": "eb63139e-b88f-467c-8078-ad822742b269",
   "metadata": {},
   "source": [
    "#### H0: for this test is that the coin is fair, meaning that the observed frequencies match the expected frequencies.\n",
    "\n",
    "#### H1: is that the coin is biased towards tails, indicating that the observed frequencies differ significantly from the expected frequencies."
   ]
  },
  {
   "cell_type": "code",
   "execution_count": 27,
   "id": "0d45ad7d-3f73-4a33-bf8d-618401dce5df",
   "metadata": {},
   "outputs": [
    {
     "name": "stdout",
     "output_type": "stream",
     "text": [
      "Chi-square test statistic: 0.5\n",
      "P-value: 0.47950012218695337\n",
      "There is no significant evidence to reject the null hypothesis. The coin is fair.\n"
     ]
    }
   ],
   "source": [
    "import numpy as np\n",
    "import scipy.stats as st\n",
    "\n",
    "# Observed frequencies (tails in 100 flips)\n",
    "observed_tails = 45\n",
    "\n",
    "# Expected frequencies for a fair coin\n",
    "expected_tails = 0.5 * 100\n",
    "\n",
    "# Calculate the chi-square test statistic\n",
    "chi2_stat = ((observed_tails - expected_tails) ** 2) / expected_tails\n",
    "\n",
    "# Degrees of freedom for a one-sample chi-square test\n",
    "df = 1\n",
    "\n",
    "# Find the p-value\n",
    "p_value = 1 - st.chi2.cdf(chi2_stat, df)\n",
    "\n",
    "print(\"Chi-square test statistic:\", chi2_stat)\n",
    "print(\"P-value:\", p_value)\n",
    "\n",
    "# Compare p-value with significance level (e.g., 0.05)\n",
    "if p_value < 0.05:\n",
    "    print(\"The coin is biased towards tails.\")\n",
    "else:\n",
    "    print(\"There is no significant evidence to reject the null hypothesis. The coin is fair.\")\n"
   ]
  },
  {
   "cell_type": "markdown",
   "id": "3459f9db-d10d-4866-9278-d33ec8eba67c",
   "metadata": {},
   "source": [
    "### Q9. A study was conducted to determine if there is an association between smoking status (smoker or non-smoker) and lung cancer diagnosis (yes or no). The results are shown in the contingency table below.Conduct a chi-square test for independence to determine if there is a significant association between smoking status and lung cancer diagnosis.\n",
    "       Lung Cancer: Yes   Lung Cancer: No\n",
    "\n",
    "      Smoker         60                140\n",
    "     Non-smoker      30                170\n",
    "### Use a significance level of 0.05."
   ]
  },
  {
   "cell_type": "markdown",
   "id": "39e5bc44-b677-4972-b94a-553c9d3b7146",
   "metadata": {},
   "source": [
    "#### H0: for this test is that smoking status and lung cancer diagnosis are independent of each other. \n",
    "\n",
    "#### H1: is that there is a significant association between smoking status and lung cancer diagnosis."
   ]
  },
  {
   "cell_type": "code",
   "execution_count": 35,
   "id": "224a1353-efca-475c-9b33-af9f32fb9825",
   "metadata": {},
   "outputs": [
    {
     "name": "stdout",
     "output_type": "stream",
     "text": [
      "Chi-square test statistic: 12.0573\n",
      "P-value:0.0005\n",
      "Degrees of freedom:1.0000\n",
      "Expected frequencies table:\n",
      " [[ 45. 155.]\n",
      " [ 45. 155.]]\n",
      "There is a significant association between smoking status and lung cancer diagnosis.\n"
     ]
    }
   ],
   "source": [
    "import numpy as np\n",
    "import scipy.stats as st\n",
    "\n",
    "# Create the contingency table\n",
    "contingency_table = np.array([[60, 140],\n",
    "                              [30, 170]])\n",
    "\n",
    "# Perform the chi-square test for independence\n",
    "chi2_stat, p_value, dof, expected = st.chi2_contingency(contingency_table)\n",
    "\n",
    "print(\"Chi-square test statistic: {:.4f}\".format(chi2_stat))\n",
    "print(\"P-value:{:.4f}\".format(p_value))\n",
    "print(\"Degrees of freedom:{:.4f}\".format(dof))\n",
    "print(\"Expected frequencies table:\\n\", expected)\n",
    "\n",
    "# Compare p-value with significance level (e.g., 0.05)\n",
    "if p_value < 0.05:\n",
    "    print(\"There is a significant association between smoking status and lung cancer diagnosis.\")\n",
    "else:\n",
    "    print(\"There is no significant association between smoking status and lung cancer diagnosis.\")\n"
   ]
  },
  {
   "cell_type": "markdown",
   "id": "9a18321f-43d6-480e-b92d-a365950de730",
   "metadata": {},
   "source": [
    "### Q10. A study was conducted to determine if the proportion of people who prefer milk chocolate, dark chocolate, or white chocolate is different in the U.S. versus the U.K. A random sample of 500 people from the U.S. and a random sample of 500 people from the U.K. were surveyed. The results are shown in the contingency table below. Conduct a chi-square test for independence to determine if there is a significant association between chocolate preference and country of origin.\n",
    "                    Milk Chocolate   Dark Chocolate   White Chocolate\n",
    "\n",
    "      U.S. (n=500)         200           150                150\n",
    "      U.K. (n=500)         225           175                100\n",
    "      \n",
    "### Use a significance level of 0.01."
   ]
  },
  {
   "cell_type": "markdown",
   "id": "93167075-9a4e-4880-a046-fa8cf1c29ddd",
   "metadata": {},
   "source": [
    "#### H0: for this test is that chocolate preference and country of origin are independent of each other.\n",
    "\n",
    "#### H1: is that there is a significant association between chocolate preference and country of origin."
   ]
  },
  {
   "cell_type": "code",
   "execution_count": 37,
   "id": "209cdb9f-c646-4f17-a2de-3687775c9d65",
   "metadata": {},
   "outputs": [
    {
     "name": "stdout",
     "output_type": "stream",
     "text": [
      "Chi-square test statistic: 13.3937\n",
      "P-value:0.0012\n",
      "Degrees of freedom:2.0000\n",
      "Expected frequencies table:\n",
      " [[212.5 162.5 125. ]\n",
      " [212.5 162.5 125. ]]\n",
      "There is a significant association between chocolate preference and country of origin.\n"
     ]
    }
   ],
   "source": [
    "import numpy as np\n",
    "import scipy.stats as st\n",
    "\n",
    "# Create the contingency table\n",
    "contingency_table = np.array([[200, 150, 150],\n",
    "                              [225, 175, 100]])\n",
    "\n",
    "# Perform the chi-square test for independence\n",
    "chi2_stat, p_value, dof, expected = st.chi2_contingency(contingency_table)\n",
    "\n",
    "print(\"Chi-square test statistic: {:.4f}\".format(chi2_stat))\n",
    "print(\"P-value:{:.4f}\".format(p_value))\n",
    "print(\"Degrees of freedom:{:.4f}\".format(dof))\n",
    "print(\"Expected frequencies table:\\n\", expected)\n",
    "\n",
    "# Compare p-value with significance level (e.g., 0.01)\n",
    "if p_value < 0.01:\n",
    "    print(\"There is a significant association between chocolate preference and country of origin.\")\n",
    "else:\n",
    "    print(\"There is no significant association between chocolate preference and country of origin.\")\n"
   ]
  },
  {
   "cell_type": "markdown",
   "id": "a04f2cf0-786e-4c09-931e-f73b270a5d83",
   "metadata": {},
   "source": [
    "### Q11. A random sample of 30 people was selected from a population with an unknown mean and standard deviation. The sample mean was found to be 72 and the sample standard deviation was found to be 10.Conduct a hypothesis test to determine if the population mean is significantly different from 70. Use a significance level of 0.05."
   ]
  },
  {
   "cell_type": "markdown",
   "id": "506fefb5-38ff-4638-87c8-f81b68600d9b",
   "metadata": {},
   "source": [
    "#### H0: for this test is that the population mean is equal to 70\n",
    "\n",
    "#### H1: is that the population mean is significantly different from 70."
   ]
  },
  {
   "cell_type": "code",
   "execution_count": 39,
   "id": "18c74186-1283-4195-8eaf-febfa68c9bfa",
   "metadata": {},
   "outputs": [
    {
     "name": "stdout",
     "output_type": "stream",
     "text": [
      "T-statistic: 1.0954451150103321\n",
      "P-value: 0.2823362372860698\n",
      "There is no significant evidence to reject the null hypothesis. The population mean is not significantly different from 70.\n"
     ]
    }
   ],
   "source": [
    "import numpy as np\n",
    "import scipy.stats as st\n",
    "\n",
    "# Sample information\n",
    "sample_mean = 72\n",
    "sample_std_dev = 10\n",
    "sample_size = 30\n",
    "population_mean = 70\n",
    "\n",
    "# Calculate the standard error of the mean\n",
    "standard_error = sample_std_dev / (sample_size ** 0.5)\n",
    "\n",
    "# Calculate the t-statistic\n",
    "t_stat = (sample_mean - population_mean) / standard_error\n",
    "\n",
    "# Degrees of freedom\n",
    "df = sample_size - 1\n",
    "\n",
    "# Calculate the critical t-value for a two-tailed test at 0.05 significance level\n",
    "alpha = 0.05\n",
    "t_critical = st.t.ppf(1 - alpha / 2, df)\n",
    "\n",
    "# Calculate the p-value for a two-tailed test\n",
    "p_value = 2 * (1 - st.t.cdf(abs(t_stat), df))\n",
    "\n",
    "print(\"T-statistic:\", t_stat)\n",
    "print(\"P-value:\", p_value)\n",
    "\n",
    "# Compare p-value with significance level (e.g., 0.05)\n",
    "if p_value < alpha:\n",
    "    print(\"The population mean is significantly different from 70.\")\n",
    "else:\n",
    "    print(\"There is no significant evidence to reject the null hypothesis. The population mean is not significantly different from 70.\")\n"
   ]
  },
  {
   "cell_type": "code",
   "execution_count": null,
   "id": "9efaf2c5-9a2f-47c8-af33-c35f76c0ad00",
   "metadata": {},
   "outputs": [],
   "source": []
  },
  {
   "cell_type": "code",
   "execution_count": null,
   "id": "5dd6bd82-f10f-4a74-9115-790e73fa07fd",
   "metadata": {},
   "outputs": [],
   "source": []
  },
  {
   "cell_type": "code",
   "execution_count": null,
   "id": "040ea0d2-7464-46a8-917b-083122faa249",
   "metadata": {},
   "outputs": [],
   "source": []
  },
  {
   "cell_type": "code",
   "execution_count": null,
   "id": "424cb4c4-dac7-4177-b526-8642ce2a16b9",
   "metadata": {},
   "outputs": [],
   "source": []
  },
  {
   "cell_type": "code",
   "execution_count": null,
   "id": "cc56b5a7-ccc4-41d1-9357-6602aa6ab41d",
   "metadata": {},
   "outputs": [],
   "source": []
  }
 ],
 "metadata": {
  "kernelspec": {
   "display_name": "Python 3 (ipykernel)",
   "language": "python",
   "name": "python3"
  },
  "language_info": {
   "codemirror_mode": {
    "name": "ipython",
    "version": 3
   },
   "file_extension": ".py",
   "mimetype": "text/x-python",
   "name": "python",
   "nbconvert_exporter": "python",
   "pygments_lexer": "ipython3",
   "version": "3.10.8"
  }
 },
 "nbformat": 4,
 "nbformat_minor": 5
}
